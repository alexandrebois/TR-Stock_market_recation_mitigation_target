{
 "cells": [
  {
   "cell_type": "markdown",
   "metadata": {},
   "source": [
    "# Calcul des rendements anormaux"
   ]
  },
  {
   "cell_type": "code",
   "execution_count": 2,
   "metadata": {},
   "outputs": [],
   "source": [
    "#import \n",
    "from script import preprocess_isin, to_date # fonctions auxilliaires utiles\n",
    "import numpy as np\n",
    "import pandas as pd\n",
    "import matplotlib.pyplot as plt\n",
    "from os import path\n",
    "from sklearn.linear_model import LinearRegression\n",
    "%matplotlib inline\n"
   ]
  },
  {
   "cell_type": "code",
   "execution_count": 3,
   "metadata": {},
   "outputs": [],
   "source": [
    "# Déclaration du lieu de stockage des données initiales, et des fichiers de résultat\n",
    "data_folder = \"data/\" \n",
    "result_folder = \"results/\""
   ]
  },
  {
   "cell_type": "markdown",
   "metadata": {},
   "source": [
    "**On va lire et traiter les tables de données correspondant aux dates d'annonce, aux cours boursiers, et aux indices de marché**"
   ]
  },
  {
   "cell_type": "code",
   "execution_count": 4,
   "metadata": {},
   "outputs": [],
   "source": [
    "## lecture des données d'indices et de main equities\n",
    "equities = preprocess_isin( path.join( data_folder, 'equities.csv' ), decimal = ',' , low_memory = False )\n",
    "indices= pd.read_csv( path.join( data_folder, 'indices.csv' )).set_index('Date')\n",
    "\n",
    "## Correspondance des dates entre les deux dataframe:\n",
    "indices.drop(['10/10/2013'] , axis = 0, inplace = True)\n",
    "equities.drop(['11/10/2023', '12/10/2023', '13/10/2023'], axis = 1, inplace = True)\n",
    "equities.drop(equities.columns[0], axis = 1, inplace = True) #colonne inutile\n",
    "equities.set_index('ISIN', inplace = True)\n",
    "\n",
    "##dates d'annonces\n",
    "dates = preprocess_isin('data/dates.csv', sep =';') # filtrage selon les ISIN\n",
    "dates.set_index('ISIN', inplace = True)\n",
    "\n",
    "## Création d'un regroupement par pays (indice du pays = 2 premières lettres de l'ISIN)\n",
    "country = [ str[:2] for str in dates.index]\n",
    "country_df = pd.DataFrame( {'Country' : country}, index = dates.index)\n",
    "df = pd.concat([country_df, dates], axis = 1 )\n",
    "groups = df.groupby('Country')\n"
   ]
  },
  {
   "cell_type": "markdown",
   "metadata": {},
   "source": [
    "**On créer ensuite un dictionnaire pour faire la correspondance pays-indice boursier de référence**"
   ]
  },
  {
   "cell_type": "code",
   "execution_count": 5,
   "metadata": {},
   "outputs": [
    {
     "name": "stdout",
     "output_type": "stream",
     "text": [
      "Index(['Unnamed: 0', 'S&P/ASX 200 ', 'Austrian Traded Index', 'BEL 20 Index',\n",
      "       'S&P/TSX 60 INDEX', 'S&P/CLX IGPA (CLP) Index', 'Colombia Price Index',\n",
      "       'OMXC 25 CAP Index', 'OMX Helsinki', 'IBEX 35 Index',\n",
      "       'Budapest SE Index', 'Athex', 'OMX Iceland', 'ISEQ', 'FTSE', 'TOPIX ',\n",
      "       'LuxX Index', 'OMX Vilnius', 'Oslo Stock Exchange Equity Index',\n",
      "       'S&P/Bmv Ipc', ' Lisbon PSI Index', 'Amsterdam', 'Swiss Market Index',\n",
      "       'OMX Stockholm', 'PX Prague', 'FTSE 100 Index', 'Shanghai SE 50',\n",
      "       'BIST 100 Index', 'SBF 120 - PRICE INDEX',\n",
      "       'DAX PERFORMANCE - PRICE INDEX', 'S&P 500 VALUE - PRICE INDEX'],\n",
      "      dtype='object')\n"
     ]
    }
   ],
   "source": [
    "print(indices.columns)\n"
   ]
  },
  {
   "cell_type": "code",
   "execution_count": 6,
   "metadata": {},
   "outputs": [],
   "source": [
    "## Création d'un dictionnaire pour la correspondance pays-indice\n",
    "#print(indices.columns)\n",
    "\n",
    "dict = {'FR' : 'SBF 120 - PRICE INDEX'  , 'US' : 'S&P 500 VALUE - PRICE INDEX' , \n",
    "        'DE' : 'DAX PERFORMANCE - PRICE INDEX', 'AU' : 'S&P/ASX 200 ', 'AT' :'Austrian Traded Index',\n",
    "        'BE' : 'BEL 20 Index', 'CA': 'S&P/TSX 60 INDEX', 'CL': 'S&P/CLX IGPA (CLP) Index' ,\n",
    "        'CO': 'Colombia Price Index', 'DK': 'OMXC 25 CAP Index', 'ES': 'IBEX 35 Index', \n",
    "        'FI': 'OMX Helsinki', 'GR': 'Athex' , 'HU': 'Budapest SE Index', 'IE':'ISEQ' , \n",
    "        'IS': 'OMX Iceland', 'JP': 'TOPIX ' , 'LT': 'OMX Vilnius', 'LU' : 'LuxX Index', 'MX': 'S&P/Bmv Ipc', \n",
    "        'NO': 'Oslo Stock Exchange Equity Index' , 'NL': 'Amsterdam', 'PT': ' Lisbon PSI Index', \n",
    "        'SE': 'OMX Stockholm', 'CH': 'Swiss Market Index', 'GB': 'FTSE 100 Index', 'CZ': 'PX Prague', \n",
    "        'TR': 'BIST 100 Index' , 'CN': 'Shanghai SE 50' }\n",
    "\n",
    "## Ce qui permet un accès rapide aux données pour un pays, exemple pour la France :\n",
    "France = groups.get_group('FR') # contient les ISIN et les dates d'annonce correspondantes \n",
    "indice_fr = indices[dict['FR']] # contient le cours du CAC 40"
   ]
  },
  {
   "cell_type": "markdown",
   "metadata": {},
   "source": [
    "### Calcul des rendements anormaux \n",
    "\n",
    "Les rendements anormaux considérés sont des rendements à 2 jours de marché après l'annonce, pour que l'effet de l'annonce soit intégré dans le cours boursier"
   ]
  },
  {
   "cell_type": "code",
   "execution_count": 7,
   "metadata": {},
   "outputs": [
    {
     "data": {
      "text/plain": [
       "(-0.7048887183203169, 0.34079945495374375)"
      ]
     },
     "execution_count": 7,
     "metadata": {},
     "output_type": "execute_result"
    }
   ],
   "source": [
    "# On définie une fonction qui calcule les rendements anormaux pour une entreprise i,\n",
    "# avec t jours de données pour les régressions linéaires, à partir d'une dataframe country qui contient les\n",
    "# entreprises d'un pays et leurs dates d'annonce, et du cours de l'indice boursier correspondant au pays\n",
    "\n",
    "def anormal_return(country, indice_country, i, t):\n",
    "    isin = country.index[i]\n",
    "    date_annonce = to_date(dates.loc[isin])\n",
    "    date = np.array(indice_country.index , dtype = str)\n",
    "\n",
    "    # test de disponibilité du cours boursier\n",
    "    try :\n",
    "        equities.loc[isin]\n",
    "    except :\n",
    "        return ('cours non disponible', 'ERR')\n",
    "    \n",
    "    Y_company = equities.loc[isin][1:] \n",
    "    Y_indice = indice_country\n",
    "    filter = np.logical_and( Y_company.notna(), Y_indice.notna() ) #dates où les 2 cours sont disponibles\n",
    "\n",
    "    date = to_date(np.array(date[filter]))\n",
    "    Y_company = np.array(Y_company[filter])\n",
    "    Y_indice = np.array(Y_indice[filter])\n",
    "    \n",
    "    # test d'existence de données sur la période voulue\n",
    "    try :  \n",
    "       indice = np.where( date >= date_annonce)[0][0] #indice de l'annonce\n",
    "    except :\n",
    "        return ('pas de données sur la période voulue' , 'ERR')\n",
    "      \n",
    "    # calcul du rendement anormal\n",
    "    y = Y_company[indice - t - 1 :indice] # t jours avant l'annonce\n",
    "    x = Y_indice[indice - t - 1 :indice].reshape((-1,1))\n",
    "    #instancier modèle\n",
    "    model_linReg = LinearRegression()\n",
    "\n",
    "    #test d'existence de données de régression\n",
    "    try :\n",
    "        model_linReg.fit(x, y)\n",
    "    except :\n",
    "        return ('pas de données pour les régressions' , 'ERR')\n",
    "    \n",
    "    #entrainement du modèle\n",
    "    score = model_linReg.score(x,y)\n",
    "    x_test = Y_indice[indice + 1].reshape((-1,1)) #  2 jours après l'annonce\n",
    "    prediction = model_linReg.predict(x_test)[0]\n",
    "    observation = Y_company[indice + 1]\n",
    "    \n",
    "    real = ( observation- Y_company[indice -1])/Y_company[indice -1] # rendement observé\n",
    "    expected = ( prediction - Y_company[indice -1])/Y_company[indice -1] #rendement prédit\n",
    "    ar = (real - expected)*100\n",
    "    return (ar , score)\n",
    "\n",
    "### Exemple d'utilistion :\n",
    "anormal_return(France, indice_fr, 0, 3)"
   ]
  },
  {
   "cell_type": "code",
   "execution_count": 8,
   "metadata": {},
   "outputs": [
    {
     "name": "stdout",
     "output_type": "stream",
     "text": [
      "[-0.7048887183203169, 1.3655406126071228, -0.4474202833527879, -5.9206364478497395, 'pas de données sur la période voulue', -6.7796045533422316, 5.488191778219426, 3.6153590217149674, -1.3080547529160562, -0.3263952099188894, 8.831101348638223, -2.6340728311016304, 0.5061983483106013, 'cours non disponible', 'cours non disponible', -1.9579965585557073, 3.523178133854657, 1.716555294089373, 4.50219275358173, 1.3621877243815916, 5.420235987553853, 1.2808056424065255, -2.3283471547013863, 1.2123609428518498, -0.15978954361756323, -0.1442801764223069, 0.20323789812725715, -0.9445141597548707, 3.4658608315600747, 0.2938919630684679, -0.2985881935338523, 0.1992144076594926, -3.2018829034709704, 'pas de données sur la période voulue', 0.7607843705332998, 0.6019713015208439, 'cours non disponible', -1.005510175735147, -11.704685015926723, -2.7206673771235494, 1.2531482141556256, 'cours non disponible', 4.548159674180763, 2.1892045538834544, 0.547052740856426, -1.2257832209370165, 1.6203698599366114, -1.8437956468702845, 8.544661402732059, 0.08801569635645284, -3.8748825094273305, -2.860655309058361, -0.2411590841035356, 2.48691459279972, -4.127983473920951, -0.8409025392650766, 4.607920087522728, 1.3425387806481521, 5.532284536477026, 1.385535588181585, 0.021147292394057528, -4.091015111547561, 1.7173209132104543, 0.04910980959057813, 1.441726431333929, 'cours non disponible', 1.6867297579675045, 4.418284438828344, -0.4326848294615488, -1.4453691125572354]\n",
      "[0.34079945495374375, 0.09879773108382017, 0.1980583762166418, 0.4604019864413553, 'ERR', 0.002969160268120552, 0.0002743165719557572, 0.8567133266137609, 0.8729964693927803, 0.8055693650489845, 0.8831635727856528, 0.5512432632019946, 0.3988710150213193, 'ERR', 'ERR', 0.3792535053516437, 0.6227981979823056, 0.11824661759400501, 0.3163197211605112, 0.29184437094351323, 0.46245433683673876, 0.5639201193234036, 0.780969525916472, 0.16863222308409564, 0.7152644280696967, 0.8187666031391, 0.733906600559081, 0.07280234083635917, 0.16409264696386294, 0.37610345697003156, 0.4687484656600638, 0.784829156615811, 0.9692346827282912, 'ERR', 0.26922785724857645, 0.00624345473493193, 'ERR', 0.8729735070706944, 0.4808056903975786, 0.0066997311020942085, 0.6619920644586323, 'ERR', 0.0011250407638865312, 0.26675820385114657, 0.3291075953154101, 0.9794825611407364, 0.08213011586254604, 0.300158461760764, 0.45086291286673374, 0.23864707781089778, 0.26632556049400935, 0.015893094497409166, 0.22955726684053468, 0.486055376998742, 0.4117725632126158, 0.0396103527370425, 0.9599541429043585, 0.07555504259354495, 0.4068922585049696, 0.49365496342671356, 0.6885664223358499, 0.7124935971824697, 0.5836054015168815, 0.1566755025627793, 0.06406885829473397, 'ERR', 0.7151693803514929, 0.007861157582041645, 0.9929024797127296, 0.7500471666745905]\n"
     ]
    }
   ],
   "source": [
    "### on itère pour toutes les entrprises i d'un pays :\n",
    "\n",
    "def Anormal_return(country, indice_country, t):\n",
    "    AR =[]\n",
    "    Coef = []\n",
    "    for i in range(len(country.index)):\n",
    "        ar = anormal_return(country, indice_country, i , t)[0]\n",
    "        coef = anormal_return(country, indice_country, i , t)[1]\n",
    "        AR.append(ar) \n",
    "        Coef.append(coef)\n",
    "    return (AR , Coef)\n",
    "\n",
    "### Exemple d'utilisation\n",
    "\n",
    "(AR , Coef) = Anormal_return(France, indice_fr, 3)\n",
    "print(AR)\n",
    "print(Coef)"
   ]
  },
  {
   "cell_type": "code",
   "execution_count": 9,
   "metadata": {},
   "outputs": [],
   "source": [
    "# On veut maintenant obtenir une dataframe contenant les rendements anormaux pour un pays et les scores \n",
    "# de regréssion, calculé avec différentes fenêtres temporelles ( ici de 4 à 20 jours, par pas de 2 jours) \n",
    "\n",
    "def Result_DataFrame( country, indice ):\n",
    "    isin = np.array(country.index)\n",
    "    df_resultat = pd.DataFrame( {'ISIN' : isin})\n",
    "    df_resultat.set_index('ISIN', inplace = True)\n",
    "    # Calcul des différents rendements anormaux\n",
    "    for i in range(2,11):\n",
    "       ar  = Anormal_return(country, indice, 2*i)[0]\n",
    "       coef = Anormal_return(country, indice, 2*i)[1]\n",
    "       df_temporaire = pd.DataFrame({ 'ISIN' : isin , f\"AR_{2*i}\" : ar, f\"Coef_{2*i}\" : coef})\n",
    "       df_resultat = df_resultat.join( df_temporaire.set_index('ISIN'))\n",
    "    return df_resultat\n",
    "\n",
    "# Exemple d'utilisation (Allemagne ici)\n",
    "Country = groups.get_group('DE')\n",
    "Indice = indices[dict['DE']]\n",
    "\n",
    "df_resultat = Result_DataFrame(Country, Indice)\n",
    "#print( df_resultat)  "
   ]
  },
  {
   "cell_type": "code",
   "execution_count": 10,
   "metadata": {},
   "outputs": [
    {
     "name": "stdout",
     "output_type": "stream",
     "text": [
      "                                              AR_4    Coef_4  \\\n",
      "ISIN                                                           \n",
      "FR0000120404                             -0.588014  0.187373   \n",
      "FR0000120073                              1.517742  0.489255   \n",
      "FR0010220475                              0.345573   0.05387   \n",
      "FR0000051732                             -5.942007  0.598023   \n",
      "FR0000121857  pas de données sur la période voulue       ERR   \n",
      "...                                            ...       ...   \n",
      "TRAARCLK91H5                               0.86596  0.180638   \n",
      "TRABRISA91E3                             -4.995113  0.924314   \n",
      "TRAVESTL91H6                             -3.199047  0.003472   \n",
      "CNE0000019B0                              -0.08279  0.285058   \n",
      "CNE100000NC4                             -7.753864  0.029276   \n",
      "\n",
      "                                              AR_6    Coef_6  \\\n",
      "ISIN                                                           \n",
      "FR0000120404                             -0.421027  0.029418   \n",
      "FR0000120073                              1.196424  0.433164   \n",
      "FR0010220475                              1.148383  0.011861   \n",
      "FR0000051732                             -5.950572  0.659393   \n",
      "FR0000121857  pas de données sur la période voulue       ERR   \n",
      "...                                            ...       ...   \n",
      "TRAARCLK91H5                              0.063375  0.122452   \n",
      "TRABRISA91E3                             -2.906842  0.958182   \n",
      "TRAVESTL91H6                             -2.780822  0.000469   \n",
      "CNE0000019B0                             -1.137342   0.03203   \n",
      "CNE100000NC4                              -7.59502  0.065247   \n",
      "\n",
      "                                              AR_8    Coef_8  \\\n",
      "ISIN                                                           \n",
      "FR0000120404                             -0.864827  0.150738   \n",
      "FR0000120073                              0.732661  0.120952   \n",
      "FR0010220475                             -1.051477  0.375056   \n",
      "FR0000051732                             -5.965222   0.52263   \n",
      "FR0000121857  pas de données sur la période voulue       ERR   \n",
      "...                                            ...       ...   \n",
      "TRAARCLK91H5                             -0.367836  0.036697   \n",
      "TRABRISA91E3                             -3.228928  0.973408   \n",
      "TRAVESTL91H6                              -0.84006  0.182934   \n",
      "CNE0000019B0                              -1.08647  0.001301   \n",
      "CNE100000NC4                             -6.487531  0.164143   \n",
      "\n",
      "                                             AR_10   Coef_10  \\\n",
      "ISIN                                                           \n",
      "FR0000120404                             -0.741846  0.051454   \n",
      "FR0000120073                              0.253264  0.245698   \n",
      "FR0010220475                             -0.561051  0.629077   \n",
      "FR0000051732                             -5.591985   0.00391   \n",
      "FR0000121857  pas de données sur la période voulue       ERR   \n",
      "...                                            ...       ...   \n",
      "TRAARCLK91H5                             -0.258637   0.08534   \n",
      "TRABRISA91E3                             -3.477419  0.873645   \n",
      "TRAVESTL91H6                              0.332757  0.535153   \n",
      "CNE0000019B0                             -0.560285  0.281549   \n",
      "CNE100000NC4                             -5.479184  0.048281   \n",
      "\n",
      "                                             AR_12   Coef_12  \\\n",
      "ISIN                                                           \n",
      "FR0000120404                             -1.917785  0.114662   \n",
      "FR0000120073                              0.159228  0.329092   \n",
      "FR0010220475                             -0.459996  0.602373   \n",
      "FR0000051732                             -5.947152  0.007362   \n",
      "FR0000121857  pas de données sur la période voulue       ERR   \n",
      "...                                            ...       ...   \n",
      "TRAARCLK91H5                             -0.168936  0.126865   \n",
      "TRABRISA91E3                             -2.790915  0.835197   \n",
      "TRAVESTL91H6                              0.308619  0.603871   \n",
      "CNE0000019B0                             -0.453999   0.41108   \n",
      "CNE100000NC4                             -5.443405  0.058331   \n",
      "\n",
      "                                             AR_14   Coef_14  \\\n",
      "ISIN                                                           \n",
      "FR0000120404                             -3.759092    0.2044   \n",
      "FR0000120073                               0.15722  0.412266   \n",
      "FR0010220475                              -0.42475  0.589497   \n",
      "FR0000051732                             -6.384023  0.218562   \n",
      "FR0000121857  pas de données sur la période voulue       ERR   \n",
      "...                                            ...       ...   \n",
      "TRAARCLK91H5                              -0.13465  0.225097   \n",
      "TRABRISA91E3                             -2.450195  0.808095   \n",
      "TRAVESTL91H6                              0.131463  0.608031   \n",
      "CNE0000019B0                             -0.676395  0.311135   \n",
      "CNE100000NC4                             -5.478423  0.128476   \n",
      "\n",
      "                                             AR_16   Coef_16  \\\n",
      "ISIN                                                           \n",
      "FR0000120404                             -3.775165  0.199787   \n",
      "FR0000120073                                0.2534  0.367138   \n",
      "FR0010220475                             -0.373621  0.584778   \n",
      "FR0000051732                             -6.462591  0.306679   \n",
      "FR0000121857  pas de données sur la période voulue       ERR   \n",
      "...                                            ...       ...   \n",
      "TRAARCLK91H5                              0.034227  0.201797   \n",
      "TRABRISA91E3                             -1.644205  0.763876   \n",
      "TRAVESTL91H6                              0.137808   0.65327   \n",
      "CNE0000019B0                             -0.810236  0.279395   \n",
      "CNE100000NC4                              -5.66509   0.09599   \n",
      "\n",
      "                                             AR_18   Coef_18  \\\n",
      "ISIN                                                           \n",
      "FR0000120404                              -4.75302  0.231008   \n",
      "FR0000120073                              0.325935  0.269316   \n",
      "FR0010220475                              -0.07287   0.40497   \n",
      "FR0000051732                             -6.521569  0.336119   \n",
      "FR0000121857  pas de données sur la période voulue       ERR   \n",
      "...                                            ...       ...   \n",
      "TRAARCLK91H5                              0.310912  0.152685   \n",
      "TRABRISA91E3                             -0.181404   0.59777   \n",
      "TRAVESTL91H6                              0.185545  0.717112   \n",
      "CNE0000019B0                             -0.852563  0.236244   \n",
      "CNE100000NC4                             -5.961691  0.027016   \n",
      "\n",
      "                                             AR_20   Coef_20  \n",
      "ISIN                                                          \n",
      "FR0000120404                             -5.838531  0.330033  \n",
      "FR0000120073                              0.304885  0.236299  \n",
      "FR0010220475                              0.954239   0.18233  \n",
      "FR0000051732                             -6.689773  0.326653  \n",
      "FR0000121857  pas de données sur la période voulue       ERR  \n",
      "...                                            ...       ...  \n",
      "TRAARCLK91H5                             -0.084585  0.461213  \n",
      "TRABRISA91E3                             -0.191947  0.559167  \n",
      "TRAVESTL91H6                              0.173009  0.776306  \n",
      "CNE0000019B0                             -1.071854  0.185113  \n",
      "CNE100000NC4                             -5.965415   0.11468  \n",
      "\n",
      "[789 rows x 18 columns]\n"
     ]
    }
   ],
   "source": [
    "# on peut maintenant obtenir une dataframe pour chaque pays. \n",
    "# On va enfin concaténer toutes les dataframes pour obtenir une grosse base de données internationale sur laquelle\n",
    "# on pourra procéder à une étude d'hétérogénéité :\n",
    "# Très long à exécuter,  les résultats ont déjà été sauvegardé dans le CSV 'AR.csv'\n",
    "result = pd.DataFrame()\n",
    "\n",
    "for country in dict :\n",
    "    Country = groups.get_group(country)\n",
    "    Indice = indices[dict[country]]\n",
    "    df_temporaire = Result_DataFrame( Country, Indice )\n",
    "    result = pd.concat([result, df_temporaire])\n",
    "\n",
    "print(result)\n"
   ]
  },
  {
   "cell_type": "code",
   "execution_count": 11,
   "metadata": {},
   "outputs": [],
   "source": [
    "# Pour sauvegarder les résultats :\n",
    "result.to_csv( path.join( result_folder , 'AR.csv'))"
   ]
  }
 ],
 "metadata": {
  "kernelspec": {
   "display_name": "base",
   "language": "python",
   "name": "python3"
  },
  "language_info": {
   "codemirror_mode": {
    "name": "ipython",
    "version": 3
   },
   "file_extension": ".py",
   "mimetype": "text/x-python",
   "name": "python",
   "nbconvert_exporter": "python",
   "pygments_lexer": "ipython3",
   "version": "3.9.12"
  }
 },
 "nbformat": 4,
 "nbformat_minor": 2
}
