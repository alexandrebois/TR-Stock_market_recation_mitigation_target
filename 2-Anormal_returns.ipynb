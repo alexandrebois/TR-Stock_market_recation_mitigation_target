{
 "cells": [
  {
   "cell_type": "markdown",
   "metadata": {},
   "source": [
    "# Anormal Returns "
   ]
  },
  {
   "cell_type": "code",
   "execution_count": 2,
   "metadata": {},
   "outputs": [],
   "source": [
    "#imports \n",
    "from script import preprocess_isin, to_date # useful functions\n",
    "import numpy as np\n",
    "import pandas as pd\n",
    "import matplotlib.pyplot as plt\n",
    "from os import path\n",
    "from sklearn.linear_model import LinearRegression\n",
    "%matplotlib inline\n"
   ]
  },
  {
   "cell_type": "code",
   "execution_count": 3,
   "metadata": {},
   "outputs": [],
   "source": [
    "# Raw data and results location, can be changed if needed\n",
    "data_folder = \"data/\" \n",
    "result_folder = \"results/\""
   ]
  },
  {
   "cell_type": "markdown",
   "metadata": {},
   "source": [
    "**We first read and preprocess the data containing price index, main equities, and dates of targets release**"
   ]
  },
  {
   "cell_type": "code",
   "execution_count": 4,
   "metadata": {},
   "outputs": [],
   "source": [
    "## Price index and main equities\n",
    "equities = preprocess_isin( path.join( data_folder, 'equities.csv' ), decimal = ',' , low_memory = False )\n",
    "indices= pd.read_csv( path.join( data_folder, 'indices.csv' )).set_index('Date')\n",
    "\n",
    "## Making the two dataframe compatible :\n",
    "indices.drop(['10/10/2013'] , axis = 0, inplace = True)\n",
    "equities.drop(['11/10/2023', '12/10/2023', '13/10/2023'], axis = 1, inplace = True)\n",
    "equities.drop(equities.columns[0], axis = 1, inplace = True) #colonne inutile\n",
    "equities.set_index('ISIN', inplace = True)\n",
    "\n",
    "## Target release dates\n",
    "dates = preprocess_isin('data/dates.csv', sep =';') # filtrage selon les ISIN\n",
    "dates.set_index('ISIN', inplace = True)\n",
    "\n",
    "## grouping by countries : (country code = 2 first letters of the ISIN)\n",
    "country = [ str[:2] for str in dates.index]\n",
    "country_df = pd.DataFrame( {'Country' : country}, index = dates.index)\n",
    "df = pd.concat([country_df, dates], axis = 1 )\n",
    "groups = df.groupby('Country')\n"
   ]
  },
  {
   "cell_type": "markdown",
   "metadata": {},
   "source": [
    "**We create a dictionary to link the countries with their corresponding market price index**"
   ]
  },
  {
   "cell_type": "code",
   "execution_count": 5,
   "metadata": {},
   "outputs": [],
   "source": [
    "## Creation of the dictionary\n",
    "#print(indices.columns)\n",
    "\n",
    "dict = {'FR' : 'SBF 120 - PRICE INDEX'  , 'US' : 'S&P 500 VALUE - PRICE INDEX' , \n",
    "        'DE' : 'DAX PERFORMANCE - PRICE INDEX', 'AU' : 'S&P/ASX 200 ', 'AT' :'Austrian Traded Index',\n",
    "        'BE' : 'BEL 20 Index', 'CA': 'S&P/TSX 60 INDEX', 'CL': 'S&P/CLX IGPA (CLP) Index' ,\n",
    "        'CO': 'Colombia Price Index', 'DK': 'OMXC 25 CAP Index', 'ES': 'IBEX 35 Index', \n",
    "        'FI': 'OMX Helsinki', 'GR': 'Athex' , 'HU': 'Budapest SE Index', 'IE':'ISEQ' , \n",
    "        'IS': 'OMX Iceland', 'JP': 'TOPIX ' , 'LT': 'OMX Vilnius', 'LU' : 'LuxX Index', 'MX': 'S&P/Bmv Ipc', \n",
    "        'NO': 'Oslo Stock Exchange Equity Index' , 'NL': 'Amsterdam', 'PT': ' Lisbon PSI Index', \n",
    "        'SE': 'OMX Stockholm', 'CH': 'Swiss Market Index', 'GB': 'FTSE 100 Index', 'CZ': 'PX Prague', \n",
    "        'TR': 'BIST 100 Index' , 'CN': 'Shanghai SE 50' }\n",
    "\n",
    "## We so have a quick access to all the data, exemple for France :\n",
    "France = groups.get_group('FR') # contains ISIN and correspondaing announcement dates\n",
    "indice_fr = indices[dict['FR']] # contains the SBF120 price index"
   ]
  },
  {
   "cell_type": "markdown",
   "metadata": {},
   "source": [
    "### Anormal Returns calculation\n",
    "\n",
    "The considered anormal returns are anormal returns 2 days after the release of the emission mitigation plan, that way the release is fully integrated in the market price."
   ]
  },
  {
   "cell_type": "code",
   "execution_count": 6,
   "metadata": {},
   "outputs": [
    {
     "data": {
      "text/plain": [
       "(-0.7418456838105075, 0.0514537676325213)"
      ]
     },
     "execution_count": 6,
     "metadata": {},
     "output_type": "execute_result"
    }
   ],
   "source": [
    "# We define a function that calculates the anormal return for a firm i, \n",
    "# with t days used for the linear regression, given a dataframe country \n",
    "# that contains the firms and the annoucement date, and given the \n",
    "# corresponding price index.\n",
    "# This function also returns the linear regression score.\n",
    "\n",
    "\n",
    "def anormal_return(country, indice_country, i, t):\n",
    "    isin = country.index[i]\n",
    "    date_annonce = to_date(dates.loc[isin])\n",
    "    date = np.array(indice_country.index , dtype = str)\n",
    "\n",
    "    # testing if equity price is available\n",
    "    try :\n",
    "        equities.loc[isin]\n",
    "    except :\n",
    "        return ('price not available', 'ERR')\n",
    "    \n",
    "    Y_company = equities.loc[isin][1:] \n",
    "    Y_indice = indice_country\n",
    "    filter = np.logical_and( Y_company.notna(), Y_indice.notna() ) # dates where index and equity price is available\n",
    "\n",
    "    date = to_date(np.array(date[filter]))\n",
    "    Y_company = np.array(Y_company[filter])\n",
    "    Y_indice = np.array(Y_indice[filter])\n",
    "    \n",
    "    # testing if data is available on the studied period\n",
    "    try :  \n",
    "       indice = np.where( date >= date_annonce)[0][0] # n° of date\n",
    "    except :\n",
    "        return ('no data on time period' , 'ERR')\n",
    "      \n",
    "    # anormal return\n",
    "    y = Y_company[indice - t - 1 :indice] # t days before release\n",
    "    x = Y_indice[indice - t - 1 :indice].reshape((-1,1))\n",
    "    # linear model\n",
    "    model_linReg = LinearRegression()\n",
    "\n",
    "    #testing if data exists for linear regression \n",
    "    try:\n",
    "        model_linReg.fit(x, y)\n",
    "    except :\n",
    "        return ('no data for regression' , 'ERR')\n",
    "    \n",
    "    #training model\n",
    "    score = model_linReg.score(x,y)\n",
    "    x_test = Y_indice[indice + 1].reshape((-1,1)) #  2 days after\n",
    "    prediction = model_linReg.predict(x_test)[0]\n",
    "    observation = Y_company[indice + 1]\n",
    "    \n",
    "    real = ( observation- Y_company[indice -1])/Y_company[indice -1] # observed return\n",
    "    expected = ( prediction - Y_company[indice -1])/Y_company[indice -1] # predicted return\n",
    "    ar = (real - expected)*100\n",
    "    return (ar , score)\n",
    "\n",
    "### Exemple \n",
    "anormal_return(France, indice_fr, 0, 10)"
   ]
  },
  {
   "cell_type": "code",
   "execution_count": 7,
   "metadata": {},
   "outputs": [
    {
     "name": "stdout",
     "output_type": "stream",
     "text": [
      "[-0.7418456838105075, 0.2532644930185821, -0.5610508747610155, -5.591985376014049, 'no data on time period', -7.111919871585035, 3.272502071292753, 4.015449339707236, -1.6423349939792289, 0.42912054290819257, 5.553723545308023, -3.7671556607449697, 0.43733718862819776, 'price not available', 'price not available', -1.3307477665918583, 0.10896771774545179, 4.1981478018069, -1.9776580701337028, 1.3297393456820572, 6.307656855180883, 0.8164401142290547, -1.687487199903791, 3.968610871448272, 0.5517770404319919, -7.698855079053072, -1.1917872276387798, 0.3157952046413032, 2.5550324581449537, -0.15896850051507466, -3.646367771649006, 1.377777239185158, -3.2870009265493008, 'no data on time period', 0.34039087239100907, -1.1927403655349091, 'price not available', 1.538874421827634, -9.336953188129767, -3.9315958858032283, 6.100390049673964, 'price not available', 8.485747798303926, 3.335936981305228, 1.4145886182599405, 0.7739760901230073, -1.3152798975641335, -0.4495007565843525, 9.497097262900777, 0.3069176949530199, -2.526654310564994, -1.1407488924718538, -0.6418447667885168, 0.6256513858079805, -5.055951843226861, -0.916394853826104, -1.9255033147460459, -0.5659048000078805, 3.8892306082072623, 1.7419653297732645, 0.20007177348781396, -7.4937013831314205, 3.332759001584875, -1.5064760051352084, 5.107317105029938, 'price not available', 5.460532843671366, 0.054559626720265125, -2.3867318566675544, -3.1864196829009956]\n",
      "[0.0514537676325213, 0.24569772220459807, 0.6290766315184335, 0.003909956557871186, 'ERR', 0.7367294802911568, 0.6772207720369203, 0.7435929053349134, 0.598040602326955, 0.317976192894742, 0.6120000805080962, 0.1433640809183332, 0.23120660008182836, 'ERR', 'ERR', 0.0009324293690285979, 0.24701637394615328, 0.2802381309455071, 0.8982222293338249, 0.14409625987466013, 0.622880820452859, 0.3412738261574836, 0.09076978410247816, 0.5153771276920794, 0.43706730873904776, 0.5703840174551899, 0.12115497287824306, 0.6267789511331094, 0.006460766182287969, 0.06360815608549064, 0.35014567729851076, 0.4043323609330056, 0.9621074536029699, 'ERR', 0.7619563071529436, 0.8649918232590608, 'ERR', 0.3432950625294915, 0.5724957348554434, 8.019090860755806e-05, 0.05036794357293606, 'ERR', 0.0020913249943476098, 0.06376029190562671, 7.973231586499985e-05, 0.2867871260160547, 0.197483891797138, 0.03442777850290768, 0.4997159167301938, 0.3043283643686491, 0.3486239407374323, 0.6335349729768758, 0.1821010867810392, 0.4692735036596549, 0.0950626713968139, 0.05056852373105347, 0.7695242261485984, 0.7890730380773883, 0.17426491929248966, 0.18607925076683118, 0.044491086809758995, 0.3394914765712541, 0.2546698032445216, 0.10018001883597749, 0.006301165585430701, 'ERR', 0.15908595248200175, 0.32149960504451847, 0.604347833764396, 0.06571402670112769]\n"
     ]
    }
   ],
   "source": [
    "### for all the company i of a country:\n",
    "\n",
    "def Anormal_return(country, indice_country, t):\n",
    "    AR =[]\n",
    "    Coef = []\n",
    "    for i in range(len(country.index)):\n",
    "        ar = anormal_return(country, indice_country, i , t)[0]\n",
    "        coef = anormal_return(country, indice_country, i , t)[1]\n",
    "        AR.append(ar) \n",
    "        Coef.append(coef)\n",
    "    return (AR , Coef)\n",
    "\n",
    "### Exemple \n",
    "\n",
    "(AR , Coef) = Anormal_return(France, indice_fr, 10)\n",
    "print(AR)\n",
    "print(Coef)"
   ]
  },
  {
   "cell_type": "code",
   "execution_count": 8,
   "metadata": {},
   "outputs": [],
   "source": [
    "# We want a dataframe with the anormal returns and regression scores, for one country, with different time length\n",
    "# used to calculate the linear regression ( here from 4 to 20 days, with a 2 days increment) \n",
    "\n",
    "def Result_DataFrame( country, indice ):\n",
    "    isin = np.array(country.index)\n",
    "    df_resultat = pd.DataFrame( {'ISIN' : isin})\n",
    "    df_resultat.set_index('ISIN', inplace = True)\n",
    "    # Calculation of different anormal returns\n",
    "    for i in range(2,11):\n",
    "       ar  = Anormal_return(country, indice, 2*i)[0]\n",
    "       coef = Anormal_return(country, indice, 2*i)[1]\n",
    "       df_temporaire = pd.DataFrame({ 'ISIN' : isin , f\"AR_{2*i}\" : ar, f\"Coef_{2*i}\" : coef})\n",
    "       df_resultat = df_resultat.join( df_temporaire.set_index('ISIN'))\n",
    "    return df_resultat\n",
    "\n",
    "# Exemple (Germany here)\n",
    "Country = groups.get_group('DE')\n",
    "Indice = indices[dict['DE']]\n",
    "\n",
    "df_resultat = Result_DataFrame(Country, Indice)\n",
    "#print( df_resultat)  "
   ]
  },
  {
   "cell_type": "code",
   "execution_count": 9,
   "metadata": {},
   "outputs": [
    {
     "name": "stdout",
     "output_type": "stream",
     "text": [
      "                                AR_4    Coef_4                    AR_6  \\\n",
      "ISIN                                                                     \n",
      "FR0000120404               -0.588014  0.187373               -0.421027   \n",
      "FR0000120073                1.517742  0.489255                1.196424   \n",
      "FR0010220475                0.345573   0.05387                1.148383   \n",
      "FR0000051732               -5.942007  0.598023               -5.950572   \n",
      "FR0000121857  no data on time period       ERR  no data on time period   \n",
      "...                              ...       ...                     ...   \n",
      "TRAARCLK91H5                 0.86596  0.180638                0.063375   \n",
      "TRABRISA91E3               -4.995113  0.924314               -2.906842   \n",
      "TRAVESTL91H6               -3.199047  0.003472               -2.780822   \n",
      "CNE0000019B0                -0.08279  0.285058               -1.137342   \n",
      "CNE100000NC4               -7.753864  0.029276                -7.59502   \n",
      "\n",
      "                Coef_6                    AR_8    Coef_8  \\\n",
      "ISIN                                                       \n",
      "FR0000120404  0.029418               -0.864827  0.150738   \n",
      "FR0000120073  0.433164                0.732661  0.120952   \n",
      "FR0010220475  0.011861               -1.051477  0.375056   \n",
      "FR0000051732  0.659393               -5.965222   0.52263   \n",
      "FR0000121857       ERR  no data on time period       ERR   \n",
      "...                ...                     ...       ...   \n",
      "TRAARCLK91H5  0.122452               -0.367836  0.036697   \n",
      "TRABRISA91E3  0.958182               -3.228928  0.973408   \n",
      "TRAVESTL91H6  0.000469                -0.84006  0.182934   \n",
      "CNE0000019B0   0.03203                -1.08647  0.001301   \n",
      "CNE100000NC4  0.065247               -6.487531  0.164143   \n",
      "\n",
      "                               AR_10   Coef_10                   AR_12  \\\n",
      "ISIN                                                                     \n",
      "FR0000120404               -0.741846  0.051454               -1.917785   \n",
      "FR0000120073                0.253264  0.245698                0.159228   \n",
      "FR0010220475               -0.561051  0.629077               -0.459996   \n",
      "FR0000051732               -5.591985   0.00391               -5.947152   \n",
      "FR0000121857  no data on time period       ERR  no data on time period   \n",
      "...                              ...       ...                     ...   \n",
      "TRAARCLK91H5               -0.258637   0.08534               -0.168936   \n",
      "TRABRISA91E3               -3.477419  0.873645               -2.790915   \n",
      "TRAVESTL91H6                0.332757  0.535153                0.308619   \n",
      "CNE0000019B0               -0.560285  0.281549               -0.453999   \n",
      "CNE100000NC4               -5.479184  0.048281               -5.443405   \n",
      "\n",
      "               Coef_12                   AR_14   Coef_14  \\\n",
      "ISIN                                                       \n",
      "FR0000120404  0.114662               -3.759092    0.2044   \n",
      "FR0000120073  0.329092                 0.15722  0.412266   \n",
      "FR0010220475  0.602373                -0.42475  0.589497   \n",
      "FR0000051732  0.007362               -6.384023  0.218562   \n",
      "FR0000121857       ERR  no data on time period       ERR   \n",
      "...                ...                     ...       ...   \n",
      "TRAARCLK91H5  0.126865                -0.13465  0.225097   \n",
      "TRABRISA91E3  0.835197               -2.450195  0.808095   \n",
      "TRAVESTL91H6  0.603871                0.131463  0.608031   \n",
      "CNE0000019B0   0.41108               -0.676395  0.311135   \n",
      "CNE100000NC4  0.058331               -5.478423  0.128476   \n",
      "\n",
      "                               AR_16   Coef_16                   AR_18  \\\n",
      "ISIN                                                                     \n",
      "FR0000120404               -3.775165  0.199787                -4.75302   \n",
      "FR0000120073                  0.2534  0.367138                0.325935   \n",
      "FR0010220475               -0.373621  0.584778                -0.07287   \n",
      "FR0000051732               -6.462591  0.306679               -6.521569   \n",
      "FR0000121857  no data on time period       ERR  no data on time period   \n",
      "...                              ...       ...                     ...   \n",
      "TRAARCLK91H5                0.034227  0.201797                0.310912   \n",
      "TRABRISA91E3               -1.644205  0.763876               -0.181404   \n",
      "TRAVESTL91H6                0.137808   0.65327                0.185545   \n",
      "CNE0000019B0               -0.810236  0.279395               -0.852563   \n",
      "CNE100000NC4                -5.66509   0.09599               -5.961691   \n",
      "\n",
      "               Coef_18                   AR_20   Coef_20  \n",
      "ISIN                                                      \n",
      "FR0000120404  0.231008               -5.838531  0.330033  \n",
      "FR0000120073  0.269316                0.304885  0.236299  \n",
      "FR0010220475   0.40497                0.954239   0.18233  \n",
      "FR0000051732  0.336119               -6.689773  0.326653  \n",
      "FR0000121857       ERR  no data on time period       ERR  \n",
      "...                ...                     ...       ...  \n",
      "TRAARCLK91H5  0.152685               -0.084585  0.461213  \n",
      "TRABRISA91E3   0.59777               -0.191947  0.559167  \n",
      "TRAVESTL91H6  0.717112                0.173009  0.776306  \n",
      "CNE0000019B0  0.236244               -1.071854  0.185113  \n",
      "CNE100000NC4  0.027016               -5.965415   0.11468  \n",
      "\n",
      "[789 rows x 18 columns]\n"
     ]
    }
   ],
   "source": [
    "# Now we have a dataframe for each country\n",
    "# We will create and merge all these dataframe to have a big database the will be used for the heterogeneity study\n",
    "# very long to run, the results have already been saved in the 'results/AR.csv' file\n",
    "result = pd.DataFrame()\n",
    "\n",
    "for country in dict :\n",
    "    Country = groups.get_group(country)\n",
    "    Indice = indices[dict[country]]\n",
    "    df_temporaire = Result_DataFrame( Country, Indice )\n",
    "    result = pd.concat([result, df_temporaire])\n",
    "\n",
    "print(result)\n"
   ]
  },
  {
   "cell_type": "code",
   "execution_count": 11,
   "metadata": {},
   "outputs": [],
   "source": [
    "# To save the result :\n",
    "result.to_csv( path.join( result_folder , 'AR.csv'))"
   ]
  }
 ],
 "metadata": {
  "kernelspec": {
   "display_name": "base",
   "language": "python",
   "name": "python3"
  },
  "language_info": {
   "codemirror_mode": {
    "name": "ipython",
    "version": 3
   },
   "file_extension": ".py",
   "mimetype": "text/x-python",
   "name": "python",
   "nbconvert_exporter": "python",
   "pygments_lexer": "ipython3",
   "version": "3.9.12"
  }
 },
 "nbformat": 4,
 "nbformat_minor": 2
}
